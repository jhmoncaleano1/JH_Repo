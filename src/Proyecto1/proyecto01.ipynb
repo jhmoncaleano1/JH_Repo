{
 "cells": [
  {
   "cell_type": "markdown",
   "id": "97712500",
   "metadata": {},
   "source": [
    "## Proyecto 01  \n"
   ]
  },
  {
   "cell_type": "code",
   "execution_count": 3,
   "id": "37f53624",
   "metadata": {},
   "outputs": [
    {
     "name": "stdout",
     "output_type": "stream",
     "text": [
      "Semana de Python en la practica\n"
     ]
    }
   ],
   "source": [
    "# proyecto 01 identifica que es NoteBook en jupyter por la extension .ipynb\n",
    "# Markdown crea como in notebook con los textos y comandos e informacion de la app\n",
    "# <ctrl>+<Enter> ejecuta el comando en la seccion activa\n",
    "#<Ctrl> +<,> settings\n",
    "#<Ctrl> +<b> mostrar/ocultar columna izq\n",
    "# Mostrando informacion al usuario\n",
    "#Abra la paleta de comandos con Ctrl + Shift + P\n",
    "print(\"Semana de Python en la practica\")    "
   ]
  },
  {
   "cell_type": "markdown",
   "id": "ee7c52c0",
   "metadata": {},
   "source": [
    "## Recibir datos del usuario\n",
    "comando input()"
   ]
  },
  {
   "cell_type": "code",
   "execution_count": 1,
   "id": "ab3c9db2",
   "metadata": {},
   "outputs": [
    {
     "name": "stdout",
     "output_type": "stream",
     "text": [
      "para el proyecto : Primer proyecto python de presupuesto Las horas estimadas son.  20 con un valor de 95 Para un costo total:  1900\n"
     ]
    }
   ],
   "source": [
    "proyecto = input(\"digite el nombre del proyecto:  \")\n",
    "horas_estimadas = input(\"Indique las horas estimadas\")\n",
    "valor_hora = input(\"Valor Hora: \")\n",
    "tiempo_estimado = input(\"Tiempo estimado\")\n",
    "costo = (int(valor_hora) * int(horas_estimadas))\n",
    "print(\"para el proyecto :\", proyecto,\"Las horas estimadas son. \", horas_estimadas, \"con un valor de\" , valor_hora, \"Para un costo total: \", costo)\n"
   ]
  },
  {
   "cell_type": "markdown",
   "id": "8a9e43dd",
   "metadata": {},
   "source": [
    "Generando PDF\n",
    "Bibliotecas:\n"
   ]
  },
  {
   "cell_type": "code",
   "execution_count": 4,
   "id": "b6a4ee96",
   "metadata": {},
   "outputs": [
    {
     "name": "stdout",
     "output_type": "stream",
     "text": [
      "Requirement already satisfied: fpdf in c:\\users\\pc\\documents\\mi_proyecto_python\\.venv\\lib\\site-packages (1.7.2)\n"
     ]
    },
    {
     "name": "stderr",
     "output_type": "stream",
     "text": [
      "\n",
      "[notice] A new release of pip is available: 25.0.1 -> 25.1.1\n",
      "[notice] To update, run: python.exe -m pip install --upgrade pip\n"
     ]
    }
   ],
   "source": [
    "#Instalo la biblioteca de pdf's'\n",
    "! pip install fpdf"
   ]
  },
  {
   "cell_type": "code",
   "execution_count": 8,
   "id": "f332ac4d",
   "metadata": {},
   "outputs": [],
   "source": [
    "from fpdf import FPDF"
   ]
  },
  {
   "cell_type": "code",
   "execution_count": 17,
   "id": "6038ffd1",
   "metadata": {},
   "outputs": [
    {
     "name": "stdout",
     "output_type": "stream",
     "text": [
      "Presupuesto generado con exito, consultar en output presupuesto.pdf\n"
     ]
    }
   ],
   "source": [
    "#creamos un archivo pdf\n",
    "pdf = FPDF()\n",
    "#ahora la variable es pdf y con . accedo los metodos\n",
    "pdf.add_page()\n",
    "pdf.set_font(\"Arial\")\n",
    "#Insertar el template png\n",
    "pdf.image(\"plantilla3.png\", 0,0)\n",
    "pdf.text(115,123, proyecto)\n",
    "pdf.text(115,137, horas_estimadas)\n",
    "pdf.text(115,150, valor_hora)\n",
    "pdf.text(115,160, tiempo_estimado)\n",
    "# cost es un entero, y pdf.text es funcion de text => str\n",
    "pdf.text(115,175, str(costo))\n",
    "\n",
    "pdf.output(\"presupuesto.pdf\")\n",
    "print(\"Presupuesto generado con exito, consultar en output presupuesto.pdf\")"
   ]
  }
 ],
 "metadata": {
  "kernelspec": {
   "display_name": ".venv",
   "language": "python",
   "name": "python3"
  },
  "language_info": {
   "codemirror_mode": {
    "name": "ipython",
    "version": 3
   },
   "file_extension": ".py",
   "mimetype": "text/x-python",
   "name": "python",
   "nbconvert_exporter": "python",
   "pygments_lexer": "ipython3",
   "version": "3.13.2"
  }
 },
 "nbformat": 4,
 "nbformat_minor": 5
}
