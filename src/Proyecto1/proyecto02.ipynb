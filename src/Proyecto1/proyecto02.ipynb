{
 "cells": [
  {
   "cell_type": "code",
   "execution_count": 2,
   "id": "f93b30a2",
   "metadata": {},
   "outputs": [],
   "source": [
    "from fpdf import FPDF\n",
    "from datetime import datetime\n",
    "\n",
    "class PDFPresupuesto(FPDF):\n",
    "    def header(self):\n",
    "        self.set_font('Arial', 'B', 14)\n",
    "        self.cell(0, 10, 'PRESUPUESTO', ln=True, align='C')\n",
    "        self.ln(5)\n",
    "\n",
    "    def footer(self):\n",
    "        self.set_y(-15)\n",
    "        self.set_font('Arial', 'I', 8)\n",
    "        self.cell(0, 10, f'Página {self.page_no()}', align='C')\n",
    "\n",
    "    def datos_cliente(self, nombre, fecha):\n",
    "        self.set_font('Arial', '', 12)\n",
    "        self.cell(0, 10, f'Cliente: {nombre}', ln=True)\n",
    "        self.cell(0, 10, f'Fecha: {fecha}', ln=True)\n",
    "        self.ln(10)\n",
    "\n",
    "    def tabla_productos(self, productos):\n",
    "        self.set_font('Arial', 'B', 12)\n",
    "        self.cell(60, 10, 'Producto', 1)\n",
    "        self.cell(30, 10, 'Cantidad', 1)\n",
    "        self.cell(40, 10, 'Precio Unitario', 1)\n",
    "        self.cell(40, 10, 'Subtotal', 1)\n",
    "        self.ln()\n",
    "\n",
    "        self.set_font('Arial', '', 12)\n",
    "        total = 0\n",
    "        for item in productos:\n",
    "            nombre, cantidad, precio = item\n",
    "            subtotal = cantidad * precio\n",
    "            total += subtotal\n",
    "            self.cell(60, 10, nombre, 1)\n",
    "            self.cell(30, 10, str(cantidad), 1, align='C')\n",
    "            self.cell(40, 10, f\"${precio:,.2f}\", 1, align='R')\n",
    "            self.cell(40, 10, f\"${subtotal:,.2f}\", 1, align='R')\n",
    "            self.ln()\n",
    "\n",
    "        self.set_font('Arial', 'B', 12)\n",
    "        self.cell(130, 10, 'TOTAL', 1)\n",
    "        self.cell(40, 10, f\"${total:,.2f}\", 1, align='R')\n",
    "\n",
    "\n"
   ]
  },
  {
   "cell_type": "markdown",
   "id": "bdf716f3",
   "metadata": {},
   "source": [
    "# === Crear el PDF ===\n"
   ]
  },
  {
   "cell_type": "code",
   "execution_count": 3,
   "id": "d968f32c",
   "metadata": {},
   "outputs": [
    {
     "data": {
      "text/plain": [
       "''"
      ]
     },
     "execution_count": 3,
     "metadata": {},
     "output_type": "execute_result"
    }
   ],
   "source": [
    "productos = [\n",
    "    (\"Monitor 24''\", 2, 600000),\n",
    "    (\"Teclado mecánico\", 1, 250000),\n",
    "    (\"Mouse inalámbrico\", 3, 80000)\n",
    "]\n",
    "\n",
    "pdf = PDFPresupuesto()\n",
    "pdf.add_page()\n",
    "pdf.datos_cliente(nombre=\"Inversiones El Cóndor S.A.\", fecha=datetime.today().strftime('%Y-%m-%d'))\n",
    "pdf.tabla_productos(productos)\n",
    "pdf.output(\"presupuesto_ejemplo.pdf\")"
   ]
  }
 ],
 "metadata": {
  "kernelspec": {
   "display_name": ".venv",
   "language": "python",
   "name": "python3"
  },
  "language_info": {
   "codemirror_mode": {
    "name": "ipython",
    "version": 3
   },
   "file_extension": ".py",
   "mimetype": "text/x-python",
   "name": "python",
   "nbconvert_exporter": "python",
   "pygments_lexer": "ipython3",
   "version": "3.13.2"
  }
 },
 "nbformat": 4,
 "nbformat_minor": 5
}
