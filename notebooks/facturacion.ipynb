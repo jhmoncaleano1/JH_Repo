{
 "cells": [
  {
   "cell_type": "code",
   "execution_count": 1,
   "id": "3573ac8b",
   "metadata": {},
   "outputs": [],
   "source": [
    "# 1. Importar librerías\n",
    "import pandas as pd\n",
    "import matplotlib.pyplot as plt"
   ]
  },
  {
   "cell_type": "code",
   "execution_count": 2,
   "id": "49951738",
   "metadata": {},
   "outputs": [],
   "source": [
    "# 2. Leer archivo Excel\n",
    "df = pd.read_excel(\"../data/facturacion.xlsx\", sheet_name=\"Facturacion\")"
   ]
  },
  {
   "cell_type": "code",
   "execution_count": 9,
   "id": "0677b7b4",
   "metadata": {},
   "outputs": [
    {
     "data": {
      "text/html": [
       "<div>\n",
       "<style scoped>\n",
       "    .dataframe tbody tr th:only-of-type {\n",
       "        vertical-align: middle;\n",
       "    }\n",
       "\n",
       "    .dataframe tbody tr th {\n",
       "        vertical-align: top;\n",
       "    }\n",
       "\n",
       "    .dataframe thead th {\n",
       "        text-align: right;\n",
       "    }\n",
       "</style>\n",
       "<table border=\"1\" class=\"dataframe\">\n",
       "  <thead>\n",
       "    <tr style=\"text-align: right;\">\n",
       "      <th></th>\n",
       "      <th>Fecha</th>\n",
       "      <th>Cliente</th>\n",
       "      <th>Producto</th>\n",
       "      <th>Cantidad</th>\n",
       "      <th>Precio Unitario</th>\n",
       "      <th>Total</th>\n",
       "    </tr>\n",
       "  </thead>\n",
       "  <tbody>\n",
       "    <tr>\n",
       "      <th>0</th>\n",
       "      <td>2025-05-01</td>\n",
       "      <td>Cliente A</td>\n",
       "      <td>Producto 1</td>\n",
       "      <td>2.000000</td>\n",
       "      <td>100</td>\n",
       "      <td>200.000000</td>\n",
       "    </tr>\n",
       "    <tr>\n",
       "      <th>1</th>\n",
       "      <td>2025-05-01</td>\n",
       "      <td>Cliente B</td>\n",
       "      <td>Producto 2</td>\n",
       "      <td>3.000000</td>\n",
       "      <td>150</td>\n",
       "      <td>450.000000</td>\n",
       "    </tr>\n",
       "    <tr>\n",
       "      <th>2</th>\n",
       "      <td>2025-05-02</td>\n",
       "      <td>Cliente C</td>\n",
       "      <td>Producto 3</td>\n",
       "      <td>5.000000</td>\n",
       "      <td>200</td>\n",
       "      <td>1000.000000</td>\n",
       "    </tr>\n",
       "    <tr>\n",
       "      <th>3</th>\n",
       "      <td>2025-05-03</td>\n",
       "      <td>Cliente A</td>\n",
       "      <td>Producto 4</td>\n",
       "      <td>6.333333</td>\n",
       "      <td>250</td>\n",
       "      <td>1583.333333</td>\n",
       "    </tr>\n",
       "    <tr>\n",
       "      <th>4</th>\n",
       "      <td>2025-05-04</td>\n",
       "      <td>Cliente B</td>\n",
       "      <td>Producto 5</td>\n",
       "      <td>7.833333</td>\n",
       "      <td>300</td>\n",
       "      <td>2350.000000</td>\n",
       "    </tr>\n",
       "  </tbody>\n",
       "</table>\n",
       "</div>"
      ],
      "text/plain": [
       "       Fecha    Cliente    Producto  Cantidad  Precio Unitario        Total\n",
       "0 2025-05-01  Cliente A  Producto 1  2.000000              100   200.000000\n",
       "1 2025-05-01  Cliente B  Producto 2  3.000000              150   450.000000\n",
       "2 2025-05-02  Cliente C  Producto 3  5.000000              200  1000.000000\n",
       "3 2025-05-03  Cliente A  Producto 4  6.333333              250  1583.333333\n",
       "4 2025-05-04  Cliente B  Producto 5  7.833333              300  2350.000000"
      ]
     },
     "execution_count": 9,
     "metadata": {},
     "output_type": "execute_result"
    }
   ],
   "source": [
    "# 3. Ver las primeras filas\n",
    "df.head()"
   ]
  },
  {
   "cell_type": "code",
   "execution_count": 10,
   "id": "a2d6d5bd",
   "metadata": {},
   "outputs": [
    {
     "data": {
      "text/plain": [
       "Cliente\n",
       "Cliente B    18450.000000\n",
       "Cliente A    14550.000000\n",
       "Cliente C    11183.333333\n",
       "Name: Total, dtype: float64"
      ]
     },
     "execution_count": 10,
     "metadata": {},
     "output_type": "execute_result"
    }
   ],
   "source": [
    "# 4. Agrupar por Cliente\n",
    "ventas_por_cliente = df.groupby(\"Cliente\")[\"Total\"].sum().sort_values(ascending=False)\n",
    "\n",
    "# 5. Mostrar resultados\n",
    "ventas_por_cliente\n"
   ]
  },
  {
   "cell_type": "code",
   "execution_count": 14,
   "id": "a12c98ed",
   "metadata": {},
   "outputs": [
    {
     "data": {
      "image/png": "[encoded data removed]",
      "text/plain": [
       "<Figure size 1000x600 with 1 Axes>"
      ]
     },
     "metadata": {},
     "output_type": "display_data"
    }
   ],
   "source": [
    "# 6. Graficar\n",
    "ventas_por_cliente.plot(kind=\"bar\", figsize=(10,6), color='orange', rot=30)\n",
    "plt.title(\"Ventas Totales por Cliente\")\n",
    "plt.xlabel(\"Cliente\")\n",
    "plt.ylabel(\"Total Ventas ($)\")\n",
    "plt.grid(axis='y')\n",
    "plt.tight_layout()\n",
    "plt.show()\n",
    "\n"
   ]
  }
 ],
 "metadata": {
  "kernelspec": {
   "display_name": ".venv",
   "language": "python",
   "name": "python3"
  },
  "language_info": {
   "codemirror_mode": {
    "name": "ipython",
    "version": 3
   },
   "file_extension": ".py",
   "mimetype": "text/x-python",
   "name": "python",
   "nbconvert_exporter": "python",
   "pygments_lexer": "ipython3",
   "version": "3.13.2"
  }
 },
 "nbformat": 4,
 "nbformat_minor": 5
}
